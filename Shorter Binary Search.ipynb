{
 "cells": [
  {
   "cell_type": "code",
   "execution_count": 17,
   "id": "2529c079",
   "metadata": {},
   "outputs": [],
   "source": [
    "def prob(cap, phase, res, prev_bal = 0):\n",
    "    b_up = 0\n",
    "    b_low =0\n",
    "    bal =-1\n",
    "    count = 0\n",
    "    last = -1\n",
    "\n",
    "    if phase ==1:\n",
    "        b_up = cap\n",
    "        b_low = 0\n",
    "        \n",
    "\n",
    "    elif phase==2:\n",
    "        if prev_bal>(cap/2):\n",
    "            b_up = cap\n",
    "            b_low = (prev_bal*2)-cap\n",
    "        else:\n",
    "            b_up = prev_bal*2\n",
    "            b_low = 0\n",
    "            \n",
    "        \n",
    "    while True:\n",
    "        count+=1\n",
    "        bal = (b_up+b_low)/2\n",
    "        \n",
    "        print(bal)\n",
    "        \n",
    "        if(bal>res):\n",
    "            b_up=bal\n",
    "        elif (bal<res):\n",
    "            b_low=bal\n",
    "        \n",
    "        \n",
    "        \n",
    "        if abs(bal-last)<((bal+last)/2)*0.05:\n",
    "            break\n",
    "        last = bal\n",
    "    return bal, count"
   ]
  },
  {
   "cell_type": "code",
   "execution_count": 21,
   "id": "c690f8d6",
   "metadata": {},
   "outputs": [
    {
     "name": "stdout",
     "output_type": "stream",
     "text": [
      "25.0\n",
      "12.5\n",
      "6.25\n",
      "9.375\n",
      "7.8125\n",
      "8.59375\n",
      "8.203125\n",
      "8.203125 7\n",
      "8.203125\n",
      "12.3046875\n",
      "10.25390625\n",
      "11.279296875\n",
      "11.7919921875\n",
      "11.7919921875 5\n"
     ]
    }
   ],
   "source": [
    "discovery, prob_count = prob(50,1,8)\n",
    "print(discovery, prob_count)\n",
    "\n",
    "track, prob_count = prob(50,2,12, discovery)\n",
    "print(track, prob_count)"
   ]
  },
  {
   "cell_type": "code",
   "execution_count": 28,
   "id": "orange-pollution",
   "metadata": {},
   "outputs": [
    {
     "name": "stdout",
     "output_type": "stream",
     "text": [
      "25.0\n",
      "37.5\n",
      "43.75\n",
      "46.875\n",
      "45.3125\n",
      "45.3125 5\n",
      "45.3125\n",
      "42.96875\n",
      "41.796875\n",
      "41.796875 3\n"
     ]
    }
   ],
   "source": [
    "discovery, prob_count = prob(50,1,46)\n",
    "print(discovery, prob_count)\n",
    "\n",
    "track, prob_count = prob(50,2,42, discovery)\n",
    "print(track, prob_count)"
   ]
  },
  {
   "cell_type": "code",
   "execution_count": null,
   "id": "measured-clearing",
   "metadata": {},
   "outputs": [],
   "source": []
  }
 ],
 "metadata": {
  "kernelspec": {
   "display_name": "Python 3",
   "language": "python",
   "name": "python3"
  },
  "language_info": {
   "codemirror_mode": {
    "name": "ipython",
    "version": 3
   },
   "file_extension": ".py",
   "mimetype": "text/x-python",
   "name": "python",
   "nbconvert_exporter": "python",
   "pygments_lexer": "ipython3",
   "version": "3.8.5"
  }
 },
 "nbformat": 4,
 "nbformat_minor": 5
}
